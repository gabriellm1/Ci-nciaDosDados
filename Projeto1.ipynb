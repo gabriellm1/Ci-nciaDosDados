{
 "cells": [
  {
   "cell_type": "markdown",
   "metadata": {},
   "source": [
    "___\n",
    "# Ciência dos Dados - PROJETO 1"
   ]
  },
  {
   "cell_type": "markdown",
   "metadata": {},
   "source": [
    "## Gabriel Lopes Monteiro\n",
    "\n",
    "___"
   ]
  },
  {
   "cell_type": "markdown",
   "metadata": {},
   "source": [
    "## A Evolução da TV no Brasil"
   ]
  },
  {
   "cell_type": "markdown",
   "metadata": {},
   "source": [
    "___\n",
    "## Introdução\n",
    "\n",
    "Em meados de 1920, se iniciou testes para a criação de um aparelho que dominou o mundo. Em 2013, cerca de 79% das casas no mundo possuiam uma televisão. Ao longo de todos esses anos, o aparelho passou por melhoras visuais e funcionais, como por exemplo imagens a cores e acesso a internet.\n",
    "No Brasil , a televisão foi introduzida nos anos 50 pelo empresário Assis Chateaubriand. O equipamento era um objeto de luxo, com pouco acesso a população. A tradição era em uma família que obtia o objeto na sala sentasse junto e até com vizinhos para assistir poucos canais em um tela bem pequena. Hoje , não é difícil encontrar casas com mais de uma televisão em diferentes cômodos e telas com tamanhos cada vez maiores. Uma pesquisa realizada pela FGV em 2014 mostrou que o Brasil teria uma televisão por habitante. Junto a essa estatística que mostra um certo progresso, existe um regresso ao ver em que com todos esses avanços tecnológicos , 50% dos domicílios brasileiros possuem apenas TV de tubo (segundo o site de notícias G1).\n",
    "Com esse intuito, esse estudo busca entender o avanço da TV no Brasil nos últimos anos, em relação a posse do equipamento pelos brasileiros e a modernização do mesmo.\n",
    "\n",
    "\n",
    "Referências:\n",
    "História da TV :\n",
    "https://www.tecmundo.com.br/projetor/2397-historia-da-televisao.htm\n",
    "https://www.nyu.edu/classes/stephens/History%20of%20Television%20page.htm\n",
    "Estatísticas:\n",
    "http://economia.estadao.com.br/noticias/geral,brasil-tera-em-2014-uma-televisao-por-habitante-diz-fgv,182825e\n",
    "http://g1.globo.com/tecnologia/noticia/2015/04/mais-de-50-de-domicilios-brasileiros-tem-apenas-tv-de-tubo-diz-ibge.html\n"
   ]
  },
  {
   "cell_type": "markdown",
   "metadata": {},
   "source": [
    "___\n",
    "## Análise e Resultados"
   ]
  },
  {
   "cell_type": "code",
   "execution_count": 34,
   "metadata": {
    "collapsed": true
   },
   "outputs": [],
   "source": [
    "%matplotlib inline\n",
    "import pandas as pd\n",
    "import matplotlib.pyplot as plt\n",
    "import numpy as np\n",
    "import os"
   ]
  },
  {
   "cell_type": "code",
   "execution_count": 35,
   "metadata": {},
   "outputs": [
    {
     "name": "stdout",
     "output_type": "stream",
     "text": [
      "Esperamos trabalhar no diretório\n",
      "C:\\Users\\gabri\\OneDrive\\Documentos\\Insper\\2_semestre\\Ciência dos Dados\\Projeto1\n"
     ]
    }
   ],
   "source": [
    "print('Esperamos trabalhar no diretório')\n",
    "print(os.getcwd())"
   ]
  },
  {
   "cell_type": "code",
   "execution_count": 36,
   "metadata": {
    "collapsed": true
   },
   "outputs": [],
   "source": [
    "#Se usar o arquivo descompactado\n",
    "#pd.read_csv('DOM2015.csv',sep=',')\n",
    "\n",
    "#Se usar o arquivo compactado como está no dropbox púbico\n",
    "#pd.read_csv('DOM2015csv.zip', compression='zip', header=0, sep=',', quotechar='\"')"
   ]
  },
  {
   "cell_type": "code",
   "execution_count": 37,
   "metadata": {},
   "outputs": [
    {
     "data": {
      "text/html": [
       "<div>\n",
       "<table border=\"1\" class=\"dataframe\">\n",
       "  <thead>\n",
       "    <tr style=\"text-align: right;\">\n",
       "      <th>Quan. TV tela fina</th>\n",
       "      <th>Centro-Oeste</th>\n",
       "      <th>Nordeste</th>\n",
       "      <th>Norte</th>\n",
       "      <th>Sudeste</th>\n",
       "      <th>Sul</th>\n",
       "      <th>All</th>\n",
       "    </tr>\n",
       "    <tr>\n",
       "      <th>Região</th>\n",
       "      <th></th>\n",
       "      <th></th>\n",
       "      <th></th>\n",
       "      <th></th>\n",
       "      <th></th>\n",
       "      <th></th>\n",
       "    </tr>\n",
       "  </thead>\n",
       "  <tbody>\n",
       "    <tr>\n",
       "      <th>0.0</th>\n",
       "      <td>5967</td>\n",
       "      <td>12584</td>\n",
       "      <td>6487</td>\n",
       "      <td>16605</td>\n",
       "      <td>7626</td>\n",
       "      <td>49269</td>\n",
       "    </tr>\n",
       "    <tr>\n",
       "      <th>1.0</th>\n",
       "      <td>5196</td>\n",
       "      <td>16239</td>\n",
       "      <td>8094</td>\n",
       "      <td>14770</td>\n",
       "      <td>8594</td>\n",
       "      <td>52893</td>\n",
       "    </tr>\n",
       "    <tr>\n",
       "      <th>2.0</th>\n",
       "      <td>793</td>\n",
       "      <td>2334</td>\n",
       "      <td>1009</td>\n",
       "      <td>3575</td>\n",
       "      <td>2338</td>\n",
       "      <td>10049</td>\n",
       "    </tr>\n",
       "    <tr>\n",
       "      <th>3.0</th>\n",
       "      <td>111</td>\n",
       "      <td>277</td>\n",
       "      <td>127</td>\n",
       "      <td>566</td>\n",
       "      <td>476</td>\n",
       "      <td>1557</td>\n",
       "    </tr>\n",
       "    <tr>\n",
       "      <th>4.0</th>\n",
       "      <td>20</td>\n",
       "      <td>33</td>\n",
       "      <td>10</td>\n",
       "      <td>90</td>\n",
       "      <td>70</td>\n",
       "      <td>223</td>\n",
       "    </tr>\n",
       "    <tr>\n",
       "      <th>5.0</th>\n",
       "      <td>3</td>\n",
       "      <td>7</td>\n",
       "      <td>2</td>\n",
       "      <td>13</td>\n",
       "      <td>15</td>\n",
       "      <td>40</td>\n",
       "    </tr>\n",
       "    <tr>\n",
       "      <th>6.0</th>\n",
       "      <td>1</td>\n",
       "      <td>0</td>\n",
       "      <td>1</td>\n",
       "      <td>3</td>\n",
       "      <td>1</td>\n",
       "      <td>6</td>\n",
       "    </tr>\n",
       "    <tr>\n",
       "      <th>7.0</th>\n",
       "      <td>0</td>\n",
       "      <td>0</td>\n",
       "      <td>0</td>\n",
       "      <td>1</td>\n",
       "      <td>0</td>\n",
       "      <td>1</td>\n",
       "    </tr>\n",
       "    <tr>\n",
       "      <th>8.0</th>\n",
       "      <td>1</td>\n",
       "      <td>0</td>\n",
       "      <td>1</td>\n",
       "      <td>0</td>\n",
       "      <td>1</td>\n",
       "      <td>3</td>\n",
       "    </tr>\n",
       "    <tr>\n",
       "      <th>All</th>\n",
       "      <td>12092</td>\n",
       "      <td>31474</td>\n",
       "      <td>15731</td>\n",
       "      <td>35623</td>\n",
       "      <td>19121</td>\n",
       "      <td>114041</td>\n",
       "    </tr>\n",
       "  </tbody>\n",
       "</table>\n",
       "</div>"
      ],
      "text/plain": [
       "Quan. TV tela fina  Centro-Oeste  Nordeste  Norte  Sudeste    Sul     All\n",
       "Região                                                                   \n",
       "0.0                         5967     12584   6487    16605   7626   49269\n",
       "1.0                         5196     16239   8094    14770   8594   52893\n",
       "2.0                          793      2334   1009     3575   2338   10049\n",
       "3.0                          111       277    127      566    476    1557\n",
       "4.0                           20        33     10       90     70     223\n",
       "5.0                            3         7      2       13     15      40\n",
       "6.0                            1         0      1        3      1       6\n",
       "7.0                            0         0      0        1      0       1\n",
       "8.0                            1         0      1        0      1       3\n",
       "All                        12092     31474  15731    35623  19121  114041"
      ]
     },
     "execution_count": 37,
     "metadata": {},
     "output_type": "execute_result"
    }
   ],
   "source": [
    "# Separando Região\n",
    "pnad2015 = pd.read_csv(\"DOM2015.csv\",sep = \",\")\n",
    "pnad2015.loc[(pnad2015.UF==11) | (pnad2015.UF==12) | (pnad2015.UF==13) | (pnad2015.UF==14) | (pnad2015.UF==15) | (pnad2015.UF==16) | (pnad2015.UF==17),\"REGIAO\"] = \"Norte\"\n",
    "pnad2015.loc[(pnad2015.UF==21)|(pnad2015.UF==22)|(pnad2015.UF==23)|(pnad2015.UF==24)|(pnad2015.UF==25)|(pnad2015.UF==26)|(pnad2015.UF==27)|(pnad2015.UF==28)|(pnad2015.UF==29),\"REGIAO\"] = \"Nordeste\"\n",
    "pnad2015.loc[(pnad2015.UF==31)|(pnad2015.UF==32)|(pnad2015.UF==33)|(pnad2015.UF==35),\"REGIAO\"] = \"Sudeste\"\n",
    "pnad2015.loc[(pnad2015.UF==50)|(pnad2015.UF==51)|(pnad2015.UF==52)|(pnad2015.UF==53),\"REGIAO\"] = \"Centro-Oeste\" \n",
    "pnad2015.loc[(pnad2015.UF==41)|(pnad2015.UF==42)|(pnad2015.UF==43),\"REGIAO\"] = \"Sul\"\n",
    "\n",
    "# Transformando em categoria\n",
    "pnad2015.TVcor = pnad2015.V0226.astype('category')\n",
    "pnad2015.TVpretoebranco = pnad2015.V0227.astype('category')\n",
    "pnad2015.TVtelafina = pnad2015.V02270.astype('float')\n",
    "pnad2015.TVtubo = pnad2015.V02271.astype('float')\n",
    "pnad2015.TVassinatura = pnad2015.V02272.astype('category')\n",
    "pnad2015.TVdigitalaberta = pnad2015.V02273.astype('category')\n",
    "pnad2015.REGIAO = pnad2015.REGIAO.astype('category')\n",
    "\n",
    "# Transformando números em palavras \n",
    "pnad2015.TVcor.cat.categories = (['Sim', 'Não'])\n",
    "pnad2015.TVpretoebranco.cat.categories = (['Sim', 'Não'])\n",
    "pnad2015.TVassinatura.cat.categories = (['Sim', 'Não'])\n",
    "pnad2015.TVdigitalaberta.cat.categories  = (['Sim', 'Não','Não sabe'])\n",
    "\n",
    "# Separando as colunas de interesse\n",
    "pnad2015 = pd.concat([pnad2015.TVcor,pnad2015.TVtelafina,pnad2015.TVtubo,pnad2015.TVassinatura,pnad2015.TVdigitalaberta,pnad2015.REGIAO], axis = 1)\n",
    "pnad2015.columns = ['TV em cores', 'Quantidade de TV tela fina','Quantidade de TV de tubo','Possui TV por assinatura','Possui sinal de TV digital aberta','REGIÃO']\n",
    "\n",
    "# Filtragem de linha\n",
    "pnad2015.dropna()\n",
    "\n",
    "# Salvando pnad2015\n",
    "pnad2015.to_csv('pnad2015_projeto.csv', sep=',')\n",
    "\n",
    "# Gráfico de TV em cores ou preto e branco por região\n",
    "ct1=pd.crosstab(pnad2015['Quantidade de TV tela fina'], pnad2015['REGIÃO'], margins=True, rownames=['Região'], colnames=['Quan. TV tela fina'])\n",
    "ct2=pd.crosstab(pnad2015['Quantidade de TV de tubo'], pnad2015['REGIÃO'], margins=True, rownames=['Região'], colnames=['Quan. TV tela fina'])\n",
    "ct1\n",
    "ct2"
   ]
  },
  {
   "cell_type": "markdown",
   "metadata": {},
   "source": [
    "# ___\n",
    "## Conclusão "
   ]
  },
  {
   "cell_type": "markdown",
   "metadata": {
    "collapsed": true
   },
   "source": [
    "Descreva aqui suas conclusões!"
   ]
  },
  {
   "cell_type": "code",
   "execution_count": null,
   "metadata": {
    "collapsed": true
   },
   "outputs": [],
   "source": []
  }
 ],
 "metadata": {
  "anaconda-cloud": {},
  "kernelspec": {
   "display_name": "Python 3",
   "language": "python",
   "name": "python3"
  },
  "language_info": {
   "codemirror_mode": {
    "name": "ipython",
    "version": 3
   },
   "file_extension": ".py",
   "mimetype": "text/x-python",
   "name": "python",
   "nbconvert_exporter": "python",
   "pygments_lexer": "ipython3",
   "version": "3.6.0"
  }
 },
 "nbformat": 4,
 "nbformat_minor": 1
}
